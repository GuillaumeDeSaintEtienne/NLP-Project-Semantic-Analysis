{
 "cells": [
  {
   "cell_type": "markdown",
   "id": "19d77b53",
   "metadata": {},
   "source": [
    "# Project"
   ]
  },
  {
   "cell_type": "code",
   "execution_count": 8,
   "id": "8a1e7f8b",
   "metadata": {},
   "outputs": [],
   "source": [
    "import pandas as pd \n",
    "import numpy as np \n",
    "import re \n",
    "from sklearn.metrics import accuracy_score\n",
    "from sklearn.model_selection import train_test_split\n",
    "from sklearn.metrics import classification_report, accuracy_score, confusion_matrix, precision_score, recall_score\n",
    "import plotly as plt \n",
    "import nltk\n",
    "from nltk.corpus import stopwords\n",
    "from nltk.stem import WordNetLemmatizer\n",
    "from nltk.tokenize import word_tokenize \n",
    "from sklearn.feature_extraction.text import TfidfVectorizer\n",
    "from sklearn.svm import LinearSVC\n"
   ]
  },
  {
   "cell_type": "code",
   "execution_count": 9,
   "id": "87546757",
   "metadata": {},
   "outputs": [
    {
     "name": "stdout",
     "output_type": "stream",
     "text": [
      "3\n"
     ]
    }
   ],
   "source": [
    "print(1+2)"
   ]
  },
  {
   "cell_type": "code",
   "execution_count": 10,
   "id": "f655757e",
   "metadata": {},
   "outputs": [
    {
     "name": "stdout",
     "output_type": "stream",
     "text": [
      "ceci n'est pas un test\n"
     ]
    }
   ],
   "source": [
    "print(\"ceci n'est pas un test\")"
   ]
  },
  {
   "cell_type": "code",
   "execution_count": 11,
   "id": "0a3d3a14",
   "metadata": {},
   "outputs": [],
   "source": [
    "df_competencies = pd.read_csv(\"../data/competencies.csv\", sep=\",\")\n",
    "df_jobs = pd.read_csv(\"../data/jobs.csv\", sep=\",\")\n",
    "\n",
    "df_jobs[\"RequiredCompetencies\"] = df_jobs[\"RequiredCompetencies\"].apply(lambda x: x.split(\";\"))\n"
   ]
  },
  {
   "cell_type": "code",
   "execution_count": 12,
   "id": "5ef8e998",
   "metadata": {},
   "outputs": [
    {
     "data": {
      "application/vnd.microsoft.datawrangler.viewer.v0+json": {
       "columns": [
        {
         "name": "index",
         "rawType": "int64",
         "type": "integer"
        },
        {
         "name": "CompetencyID",
         "rawType": "object",
         "type": "string"
        },
        {
         "name": "Competency",
         "rawType": "object",
         "type": "string"
        },
        {
         "name": "BlockID",
         "rawType": "int64",
         "type": "integer"
        },
        {
         "name": "BlockName",
         "rawType": "object",
         "type": "string"
        }
       ],
       "ref": "60841037-94f0-4860-bb9a-4cc5a832c4e2",
       "rows": [
        [
         "0",
         "C01",
         "Data cleaning",
         "1",
         "Data Analysis"
        ],
        [
         "1",
         "C02",
         "Data visualization",
         "1",
         "Data Analysis"
        ],
        [
         "2",
         "C03",
         "Python programming",
         "1",
         "Data Analysis"
        ],
        [
         "3",
         "C04",
         "Statistics",
         "1",
         "Data Analysis"
        ],
        [
         "4",
         "C05",
         "SQL",
         "1",
         "Data Analysis"
        ]
       ],
       "shape": {
        "columns": 4,
        "rows": 5
       }
      },
      "text/html": [
       "<div>\n",
       "<style scoped>\n",
       "    .dataframe tbody tr th:only-of-type {\n",
       "        vertical-align: middle;\n",
       "    }\n",
       "\n",
       "    .dataframe tbody tr th {\n",
       "        vertical-align: top;\n",
       "    }\n",
       "\n",
       "    .dataframe thead th {\n",
       "        text-align: right;\n",
       "    }\n",
       "</style>\n",
       "<table border=\"1\" class=\"dataframe\">\n",
       "  <thead>\n",
       "    <tr style=\"text-align: right;\">\n",
       "      <th></th>\n",
       "      <th>CompetencyID</th>\n",
       "      <th>Competency</th>\n",
       "      <th>BlockID</th>\n",
       "      <th>BlockName</th>\n",
       "    </tr>\n",
       "  </thead>\n",
       "  <tbody>\n",
       "    <tr>\n",
       "      <th>0</th>\n",
       "      <td>C01</td>\n",
       "      <td>Data cleaning</td>\n",
       "      <td>1</td>\n",
       "      <td>Data Analysis</td>\n",
       "    </tr>\n",
       "    <tr>\n",
       "      <th>1</th>\n",
       "      <td>C02</td>\n",
       "      <td>Data visualization</td>\n",
       "      <td>1</td>\n",
       "      <td>Data Analysis</td>\n",
       "    </tr>\n",
       "    <tr>\n",
       "      <th>2</th>\n",
       "      <td>C03</td>\n",
       "      <td>Python programming</td>\n",
       "      <td>1</td>\n",
       "      <td>Data Analysis</td>\n",
       "    </tr>\n",
       "    <tr>\n",
       "      <th>3</th>\n",
       "      <td>C04</td>\n",
       "      <td>Statistics</td>\n",
       "      <td>1</td>\n",
       "      <td>Data Analysis</td>\n",
       "    </tr>\n",
       "    <tr>\n",
       "      <th>4</th>\n",
       "      <td>C05</td>\n",
       "      <td>SQL</td>\n",
       "      <td>1</td>\n",
       "      <td>Data Analysis</td>\n",
       "    </tr>\n",
       "  </tbody>\n",
       "</table>\n",
       "</div>"
      ],
      "text/plain": [
       "  CompetencyID          Competency  BlockID      BlockName\n",
       "0          C01       Data cleaning        1  Data Analysis\n",
       "1          C02  Data visualization        1  Data Analysis\n",
       "2          C03  Python programming        1  Data Analysis\n",
       "3          C04          Statistics        1  Data Analysis\n",
       "4          C05                 SQL        1  Data Analysis"
      ]
     },
     "execution_count": 12,
     "metadata": {},
     "output_type": "execute_result"
    }
   ],
   "source": [
    "df_competencies.head()"
   ]
  },
  {
   "cell_type": "code",
   "execution_count": 13,
   "id": "a5a11d57",
   "metadata": {},
   "outputs": [
    {
     "data": {
      "application/vnd.microsoft.datawrangler.viewer.v0+json": {
       "columns": [
        {
         "name": "index",
         "rawType": "int64",
         "type": "integer"
        },
        {
         "name": "JobID",
         "rawType": "object",
         "type": "string"
        },
        {
         "name": "JobTitle",
         "rawType": "object",
         "type": "string"
        },
        {
         "name": "RequiredCompetencies",
         "rawType": "object",
         "type": "unknown"
        }
       ],
       "ref": "9e7decb1-dcb3-41fe-a266-c9c4b8536802",
       "rows": [
        [
         "0",
         "J01",
         "Data Analyst",
         "['C01', 'C02', 'C03', 'C04', 'C05', 'C46', 'C47', 'C48', 'C49', 'C50']"
        ],
        [
         "1",
         "J02",
         "Data Scientist",
         "['C01', 'C03', 'C04', 'C06', 'C07', 'C08', 'C09', 'C10', 'C11', 'C12', 'C13', 'C14', 'C15', 'C16', 'C46', 'C47', 'C48', 'C49', 'C50']"
        ],
        [
         "2",
         "J03",
         "ML Engineer",
         "['C03', 'C06', 'C07', 'C08', 'C09', 'C10', 'C11', 'C12', 'C13', 'C14', 'C15', 'C16', 'C26', 'C27', 'C28', 'C29', 'C30', 'C31', 'C32', 'C33', 'C34', 'C35']"
        ],
        [
         "3",
         "J04",
         "NLP Engineer",
         "['C03', 'C06', 'C07', 'C08', 'C11', 'C12', 'C13', 'C14', 'C15', 'C16', 'C17', 'C18', 'C19', 'C20', 'C21', 'C22', 'C23', 'C24', 'C25', 'C46', 'C47']"
        ],
        [
         "4",
         "J05",
         "Data Engineer",
         "['C03', 'C21', 'C22', 'C23', 'C24', 'C25', 'C26', 'C27', 'C28', 'C29', 'C30', 'C31', 'C32', 'C33', 'C34', 'C35', 'C36', 'C37', 'C38', 'C39', 'C40']"
        ]
       ],
       "shape": {
        "columns": 3,
        "rows": 5
       }
      },
      "text/html": [
       "<div>\n",
       "<style scoped>\n",
       "    .dataframe tbody tr th:only-of-type {\n",
       "        vertical-align: middle;\n",
       "    }\n",
       "\n",
       "    .dataframe tbody tr th {\n",
       "        vertical-align: top;\n",
       "    }\n",
       "\n",
       "    .dataframe thead th {\n",
       "        text-align: right;\n",
       "    }\n",
       "</style>\n",
       "<table border=\"1\" class=\"dataframe\">\n",
       "  <thead>\n",
       "    <tr style=\"text-align: right;\">\n",
       "      <th></th>\n",
       "      <th>JobID</th>\n",
       "      <th>JobTitle</th>\n",
       "      <th>RequiredCompetencies</th>\n",
       "    </tr>\n",
       "  </thead>\n",
       "  <tbody>\n",
       "    <tr>\n",
       "      <th>0</th>\n",
       "      <td>J01</td>\n",
       "      <td>Data Analyst</td>\n",
       "      <td>[C01, C02, C03, C04, C05, C46, C47, C48, C49, ...</td>\n",
       "    </tr>\n",
       "    <tr>\n",
       "      <th>1</th>\n",
       "      <td>J02</td>\n",
       "      <td>Data Scientist</td>\n",
       "      <td>[C01, C03, C04, C06, C07, C08, C09, C10, C11, ...</td>\n",
       "    </tr>\n",
       "    <tr>\n",
       "      <th>2</th>\n",
       "      <td>J03</td>\n",
       "      <td>ML Engineer</td>\n",
       "      <td>[C03, C06, C07, C08, C09, C10, C11, C12, C13, ...</td>\n",
       "    </tr>\n",
       "    <tr>\n",
       "      <th>3</th>\n",
       "      <td>J04</td>\n",
       "      <td>NLP Engineer</td>\n",
       "      <td>[C03, C06, C07, C08, C11, C12, C13, C14, C15, ...</td>\n",
       "    </tr>\n",
       "    <tr>\n",
       "      <th>4</th>\n",
       "      <td>J05</td>\n",
       "      <td>Data Engineer</td>\n",
       "      <td>[C03, C21, C22, C23, C24, C25, C26, C27, C28, ...</td>\n",
       "    </tr>\n",
       "  </tbody>\n",
       "</table>\n",
       "</div>"
      ],
      "text/plain": [
       "  JobID        JobTitle                               RequiredCompetencies\n",
       "0   J01    Data Analyst  [C01, C02, C03, C04, C05, C46, C47, C48, C49, ...\n",
       "1   J02  Data Scientist  [C01, C03, C04, C06, C07, C08, C09, C10, C11, ...\n",
       "2   J03     ML Engineer  [C03, C06, C07, C08, C09, C10, C11, C12, C13, ...\n",
       "3   J04    NLP Engineer  [C03, C06, C07, C08, C11, C12, C13, C14, C15, ...\n",
       "4   J05   Data Engineer  [C03, C21, C22, C23, C24, C25, C26, C27, C28, ..."
      ]
     },
     "execution_count": 13,
     "metadata": {},
     "output_type": "execute_result"
    }
   ],
   "source": [
    "df_jobs.head()"
   ]
  },
  {
   "cell_type": "code",
   "execution_count": 14,
   "id": "5496cd03",
   "metadata": {},
   "outputs": [
    {
     "name": "stdout",
     "output_type": "stream",
     "text": [
      "['je', 'suis', 'un', ',', 'chocolat']\n"
     ]
    }
   ],
   "source": [
    "text=\"je suis un  ,   chocolat\"\n",
    "\n",
    "tokens = word_tokenize(text)\n",
    "\n",
    "print(tokens)"
   ]
  }
 ],
 "metadata": {
  "kernelspec": {
   "display_name": ".venv",
   "language": "python",
   "name": "python3"
  },
  "language_info": {
   "codemirror_mode": {
    "name": "ipython",
    "version": 3
   },
   "file_extension": ".py",
   "mimetype": "text/x-python",
   "name": "python",
   "nbconvert_exporter": "python",
   "pygments_lexer": "ipython3",
   "version": "3.11.9"
  }
 },
 "nbformat": 4,
 "nbformat_minor": 5
}
